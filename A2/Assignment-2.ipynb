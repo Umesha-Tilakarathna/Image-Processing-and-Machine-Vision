# Question 1

import cv2
import numpy as np
import matplotlib.pyplot as plt

# Load the sunflower field image
sunflower_image = cv2.imread('the_berry_farms_sunflower_field.jpeg', cv2.IMREAD_REDUCED_COLOR_4)
gray_sunflower_image = cv2.cvtColor(sunflower_image, cv2.COLOR_BGR2GRAY)

# Set up parameters for scale-space extrema detection
min_blob_sigma = 1.0  # Minimum sigma value (smaller values for smaller blobs)
max_blob_sigma = 2.0  # Maximum sigma value (larger values for larger blobs)
num_sigma_values = 5  # Number of sigma values to test
blob_detection_threshold = 0.35  # Threshold for blob detection

# Create an empty list to store detected circles
detected_circles = []

# Loop through different sigma values to detect blobs at different scales
for blob_sigma in np.linspace(min_blob_sigma, max_blob_sigma, num_sigma_values):
    # Apply LoG (Laplacian of Gaussian) to the grayscale image with the current sigma
    blurred_sunflower_image = cv2.GaussianBlur(gray_sunflower_image, (0, 0), blob_sigma)
    laplacian_sunflower = cv2.Laplacian(blurred_sunflower_image, cv2.CV_64F)

    # Calculate the absolute Laplacian values
    abs_laplacian_sunflower = np.abs(laplacian_sunflower)

    # Create a binary image where blobs are detected using the threshold
    blob_mask = abs_laplacian_sunflower > blob_detection_threshold * abs_laplacian_sunflower.max()

    # Find contours in the blob mask
    contours, _ = cv2.findContours(blob_mask.astype(np.uint8), cv2.RETR_EXTERNAL, cv2.CHAIN_APPROX_SIMPLE)

    # Loop through the detected contours and fit circles to them
    for contour in contours:
        if len(contour) >= 5:
            (x, y), radius = cv2.minEnclosingCircle(contour)
            center = (int(x), int(y))
            radius = int(radius)
            detected_circles.append((center, radius, blob_sigma))

# Sort the detected circles by radius in descending order
detected_circles.sort(key=lambda x: -x[1])

# Report the parameters of the largest circle
largest_detected_circle = detected_circles[0]
center_coordinates, circle_radius, circle_sigma = largest_detected_circle

print("Parameters of the largest detected circle:")
print(f"Center Coordinates: {center_coordinates}")
print(f"Circle Radius: {circle_radius}")
print(f"Sigma Value: {circle_sigma}")

# Set the desired line thickness for drawn circles
line_thickness = 1

# Draw all detected circles with the specified line thickness
output_image_with_circles = cv2.cvtColor(gray_sunflower_image, cv2.COLOR_GRAY2BGR)
for circle_info in detected_circles:
    circle_center, circle_radius, _ = circle_info
    cv2.circle(output_image_with_circles, circle_center, circle_radius, (0, 0, 255), line_thickness)  # Red color

# Display the grayscale image with detected circles using matplotlib
plt.figure(figsize=(10, 10))
plt.imshow(cv2.cvtColor(output_image_with_circles, cv2.COLOR_BGR2RGB), cmap='gray')
plt.axis('off')
plt.title('Detected Circles')
plt.show()
